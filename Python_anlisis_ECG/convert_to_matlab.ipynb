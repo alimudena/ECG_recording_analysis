{
 "cells": [
  {
   "cell_type": "code",
   "execution_count": 1,
   "metadata": {},
   "outputs": [],
   "source": [
    "%matplotlib widget"
   ]
  },
  {
   "cell_type": "code",
   "execution_count": 1,
   "metadata": {},
   "outputs": [],
   "source": [
    "# Import necessary libraries\n",
    "import neo\n",
    "import scipy.io\n",
    "import matplotlib.pyplot as plt\n",
    "import numpy as np\n",
    "from quantities import mV, ms\n",
    "from scipy.signal import find_peaks\n",
    "import matplotlib.pyplot as plt\n",
    "import numpy as np\n"
   ]
  },
  {
   "cell_type": "code",
   "execution_count": 3,
   "metadata": {},
   "outputs": [],
   "source": [
    "\n",
    "#folder = '01_Caracterizacion_ECG_ratones'\n",
    "#file_name = 'R1_ECG'\n",
    "folder = '02_CTB_setup_experiments/'\n",
    "exact_name = 'EXP004'\n",
    "file_name = 'RATON6_CONTROL_FALSAEST_40MINAN'\n",
    "\n",
    "\n",
    "# Read the SMR file\n",
    "reader = neo.Spike2IO(filename=folder+exact_name+'/'+file_name+'.smr')\n",
    "data = reader.read()[0]\n",
    "\n",
    "# Extract the signal you want to plot\n",
    "signal = data.segments[0].analogsignals[0]\n",
    "\n",
    "# Convertir el objeto AnalogSignal a un formato que pueda ser guardado\n",
    "signal_array = signal.magnitude  # Magnitud en unidades base (por ejemplo, mV)\n",
    "sampling_rate = signal.sampling_rate.magnitude  # Frecuencia de muestreo\n",
    "\n",
    "scipy.io.savemat('MAT/'+exact_name+'/'+file_name+'.mat', {'signal': signal_array, 'sampling_rate': sampling_rate})\n"
   ]
  }
 ],
 "metadata": {
  "kernelspec": {
   "display_name": "Python 3",
   "language": "python",
   "name": "python3"
  },
  "language_info": {
   "codemirror_mode": {
    "name": "ipython",
    "version": 3
   },
   "file_extension": ".py",
   "mimetype": "text/x-python",
   "name": "python",
   "nbconvert_exporter": "python",
   "pygments_lexer": "ipython3",
   "version": "3.11.9"
  }
 },
 "nbformat": 4,
 "nbformat_minor": 2
}
